{
 "cells": [
  {
   "cell_type": "code",
   "execution_count": 3,
   "id": "d347bfb9-104f-4fbe-aaa7-0a12a43d604e",
   "metadata": {},
   "outputs": [],
   "source": [
    "import time\n",
    "import torch\n",
    "import torch_tensorrt\n",
    "import torchvision.models as models\n",
    "import tensorrt as trt"
   ]
  },
  {
   "cell_type": "code",
   "execution_count": 4,
   "id": "a251fdc8-430b-4ce1-bcd3-02bb3d94e661",
   "metadata": {},
   "outputs": [
    {
     "data": {
      "text/plain": [
       "'cuda'"
      ]
     },
     "execution_count": 4,
     "metadata": {},
     "output_type": "execute_result"
    }
   ],
   "source": [
    "device = \"cuda\" if torch.cuda.is_available() else \"cpu\"\n",
    "device"
   ]
  },
  {
   "cell_type": "markdown",
   "id": "22aca159-807d-4aea-9b71-3a5f8c760e8b",
   "metadata": {},
   "source": [
    "# Compiling ResNet using the Torch-TensorRT torch.compile Backend"
   ]
  },
  {
   "cell_type": "markdown",
   "id": "011e4d46-7a9a-4f09-965f-4ac42b3bee89",
   "metadata": {},
   "source": [
    "#### With Full Precision"
   ]
  },
  {
   "cell_type": "code",
   "execution_count": 4,
   "id": "e137b74c-baff-455d-a3db-e0f2d0c6699f",
   "metadata": {},
   "outputs": [],
   "source": [
    "model = models.resnet101( weights=models.ResNet101_Weights.DEFAULT).eval().to(device=device)"
   ]
  },
  {
   "cell_type": "code",
   "execution_count": 5,
   "id": "dd551471-4c60-402d-b635-b052d4547ea2",
   "metadata": {},
   "outputs": [],
   "source": [
    "inputs = [torch.randn((1,3,224,224)).to(device)]"
   ]
  },
  {
   "cell_type": "code",
   "execution_count": 6,
   "id": "64592d64-fedd-43f5-9f6a-b4862c4bca74",
   "metadata": {},
   "outputs": [],
   "source": [
    "enabled_precisions = {torch.float}\n",
    "debug = True\n",
    "workspace_size = 20 << 30\n",
    "min_block_size  = 7\n",
    "torch_executed_ops = {}"
   ]
  },
  {
   "cell_type": "code",
   "execution_count": 7,
   "id": "4f76529a-b3f3-4b75-8928-6056d59ef3bd",
   "metadata": {},
   "outputs": [],
   "source": [
    "optimized_model = torch_tensorrt.compile(\n",
    "    model,\n",
    "    ir=\"torch_compile\",\n",
    "    inputs=inputs,\n",
    "    enabled_precisions=enabled_precisions,\n",
    "    debug=debug,\n",
    "    workspace_size=workspace_size,\n",
    "    min_block_size=min_block_size,\n",
    "    torch_executed_ops=torch_executed_ops,\n",
    ")"
   ]
  },
  {
   "cell_type": "code",
   "execution_count": 11,
   "id": "98f5cc64-7bbb-41aa-9df4-d71355d3cda0",
   "metadata": {
    "scrolled": true
   },
   "outputs": [
    {
     "name": "stdout",
     "output_type": "stream",
     "text": [
      "torch.Size([1, 1000])\n"
     ]
    }
   ],
   "source": [
    "new_inputs = [torch.randn((1,3,224,224)).to(device)]\n",
    "new_outputs = optimized_model(*new_inputs)\n",
    "print(new_outputs.shape)"
   ]
  },
  {
   "cell_type": "code",
   "execution_count": 13,
   "id": "4e95b270-a1a7-41d9-9691-e6bf38c44fff",
   "metadata": {
    "scrolled": true
   },
   "outputs": [
    {
     "name": "stdout",
     "output_type": "stream",
     "text": [
      "Total optimized model runtime: 0.0031 seconds\n",
      "torch.Size([20, 1000])\n"
     ]
    }
   ],
   "source": [
    "# Predict with TensorRT model\n",
    "new_inputs = [torch.randn((20,3,224,224)).to(device)]\n",
    "start_time = time.time()\n",
    "new_outputs = optimized_model(*new_inputs)\n",
    "end_time = time.time()\n",
    "total_time = end_time - start_time\n",
    "print(f\"Total optimized model runtime: {total_time:.4f} seconds\")\n",
    "print(new_outputs.shape)\n",
    "del new_inputs\n",
    "del new_outputs"
   ]
  },
  {
   "cell_type": "code",
   "execution_count": 14,
   "id": "ebeaa943-a16f-4c34-9b66-8c3dc3e86ed8",
   "metadata": {},
   "outputs": [
    {
     "name": "stdout",
     "output_type": "stream",
     "text": [
      "Total torch model runtime: 0.0168 seconds\n",
      "torch.Size([20, 1000])\n"
     ]
    }
   ],
   "source": [
    "# Predict with Torch  model\n",
    "new_inputs = [torch.randn((20,3,224,224)).to(device)]\n",
    "start_time = time.time()\n",
    "new_outputs = model(*new_inputs)\n",
    "end_time = time.time()\n",
    "total_time = end_time - start_time\n",
    "print(f\"Total torch model runtime: {total_time:.4f} seconds\")\n",
    "print(new_outputs.shape)\n",
    "del new_inputs\n",
    "del new_outputs"
   ]
  },
  {
   "cell_type": "markdown",
   "id": "55202300-5728-4052-9e3a-7be04a7f5d48",
   "metadata": {
    "jp-MarkdownHeadingCollapsed": true
   },
   "source": [
    "### With Half Precision"
   ]
  },
  {
   "cell_type": "code",
   "execution_count": 5,
   "id": "4158f0af-93ca-4291-a0fe-9fea104b4735",
   "metadata": {},
   "outputs": [],
   "source": [
    "model = models.resnet101( weights=models.ResNet101_Weights.DEFAULT).half().eval().to(device=device)"
   ]
  },
  {
   "cell_type": "code",
   "execution_count": 6,
   "id": "2be2cbaf-7336-45cb-9453-2cff27c8b1a9",
   "metadata": {},
   "outputs": [],
   "source": [
    "inputs = [torch.randn((1,3,224,224)).to(device).half()]"
   ]
  },
  {
   "cell_type": "code",
   "execution_count": 7,
   "id": "1f6e137c-ef05-4fb9-a39f-ec9228639c09",
   "metadata": {},
   "outputs": [],
   "source": [
    "enabled_precisions = {torch.half}\n",
    "debug = True\n",
    "workspace_size = 20 << 30\n",
    "min_block_size  = 7\n",
    "torch_executed_ops = {}"
   ]
  },
  {
   "cell_type": "code",
   "execution_count": 8,
   "id": "6483f70a-2777-409f-8e2d-df3fd3cd1101",
   "metadata": {},
   "outputs": [],
   "source": [
    "optimized_model = torch_tensorrt.compile(\n",
    "    model,\n",
    "    ir=\"torch_compile\",\n",
    "    inputs=inputs,\n",
    "    enabled_precisions=enabled_precisions,\n",
    "    debug=debug,\n",
    "    workspace_size=workspace_size,\n",
    "    min_block_size=min_block_size,\n",
    "    torch_executed_ops=torch_executed_ops,\n",
    ")"
   ]
  },
  {
   "cell_type": "code",
   "execution_count": 11,
   "id": "8661bc02-2501-48ed-b12e-b446aef30b98",
   "metadata": {
    "scrolled": true
   },
   "outputs": [
    {
     "name": "stdout",
     "output_type": "stream",
     "text": [
      "torch.Size([1, 1000])\n"
     ]
    }
   ],
   "source": [
    "new_inputs = [torch.randn((1,3,224,224)).to(device).half()]\n",
    "new_outputs = optimized_model(*new_inputs)\n",
    "print(new_outputs.shape)"
   ]
  },
  {
   "cell_type": "code",
   "execution_count": 76,
   "id": "e1690e0c-6409-48a3-b0fb-ebd7748eb737",
   "metadata": {},
   "outputs": [
    {
     "name": "stdout",
     "output_type": "stream",
     "text": [
      "Total optimized model runtime: 0.0007 seconds\n",
      "torch.Size([100, 1000])\n"
     ]
    }
   ],
   "source": [
    "# Predict with TensorRT model\n",
    "new_inputs = [torch.randn((100,3,224,224)).to(device).half()]\n",
    "start_time = time.time()\n",
    "new_outputs = optimized_model(*new_inputs)\n",
    "end_time = time.time()\n",
    "total_time = end_time - start_time\n",
    "print(f\"Total optimized model runtime: {total_time:.4f} seconds\")\n",
    "print(new_outputs.shape)"
   ]
  },
  {
   "cell_type": "code",
   "execution_count": 77,
   "id": "f2cac774-6747-429d-b74c-b5483213df68",
   "metadata": {},
   "outputs": [
    {
     "name": "stdout",
     "output_type": "stream",
     "text": [
      "Total torch model runtime: 0.0037 seconds\n",
      "torch.Size([100, 1000])\n"
     ]
    }
   ],
   "source": [
    "# Predict with Torch  model\n",
    "new_inputs = [torch.randn((100,3,224,224)).half().to(device)]\n",
    "start_time = time.time()\n",
    "new_outputs = model(*new_inputs)\n",
    "end_time = time.time()\n",
    "total_time = end_time - start_time\n",
    "print(f\"Total torch model runtime: {total_time:.4f} seconds\")\n",
    "print(new_outputs.shape)"
   ]
  },
  {
   "cell_type": "code",
   "execution_count": null,
   "id": "188e7ac7-3c8a-4c7d-b58b-637b05181f34",
   "metadata": {},
   "outputs": [],
   "source": []
  }
 ],
 "metadata": {
  "kernelspec": {
   "display_name": "trt_env",
   "language": "python",
   "name": "trt_env"
  },
  "language_info": {
   "codemirror_mode": {
    "name": "ipython",
    "version": 3
   },
   "file_extension": ".py",
   "mimetype": "text/x-python",
   "name": "python",
   "nbconvert_exporter": "python",
   "pygments_lexer": "ipython3",
   "version": "3.10.12"
  }
 },
 "nbformat": 4,
 "nbformat_minor": 5
}
